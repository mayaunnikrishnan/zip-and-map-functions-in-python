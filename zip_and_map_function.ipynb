{
  "nbformat": 4,
  "nbformat_minor": 0,
  "metadata": {
    "colab": {
      "provenance": []
    },
    "kernelspec": {
      "name": "python3",
      "display_name": "Python 3"
    },
    "language_info": {
      "name": "python"
    }
  },
  "cells": [
    {
      "cell_type": "markdown",
      "source": [
        "##`zip Function:`\n",
        "The zip function takes multiple iterables and returns an iterator that produces tuples containing elements from each iterable, paired together based on their positions."
      ],
      "metadata": {
        "id": "HWK49DJBdFzu"
      }
    },
    {
      "cell_type": "code",
      "execution_count": 1,
      "metadata": {
        "colab": {
          "base_uri": "https://localhost:8080/"
        },
        "id": "XXFbrTQfc_I4",
        "outputId": "e557849a-c2be-44cf-ad3a-f858f84badab"
      },
      "outputs": [
        {
          "output_type": "stream",
          "name": "stdout",
          "text": [
            "Alice is 25 years old\n",
            "Bob is 30 years old\n",
            "Charlie is 35 years old\n"
          ]
        }
      ],
      "source": [
        "# Example lists\n",
        "names = ['Alice', 'Bob', 'Charlie']\n",
        "ages = [25, 30, 35]\n",
        "\n",
        "# Using zip to pair elements from both lists\n",
        "combined = zip(names, ages)\n",
        "\n",
        "# Iterating over the result\n",
        "for name, age in combined:\n",
        "    print(f'{name} is {age} years old')\n"
      ]
    },
    {
      "cell_type": "markdown",
      "source": [
        "- Question 1:\n",
        "Johnny has these two lists of colors: [\"red\", \"blue\", \"green\"] and [\"yellow\", \"purple\"]. Can you help him zip them together and write down all the colors in order?\n",
        "\n",
        "- Question 2:\n",
        "Emily has these two tuples of fruits: (\"apple\", \"banana\", \"orange\") and (\"grapefruit\", \"melon\"). Can you help her zip them together and make a list of all the fruits she has?\n",
        "\n",
        "- Question 3:\n",
        "David has these two sets of numbers: {1, 2, 3} and {4, 5}. Can you help him zip them together and create a tuple of all the numbers in order?\n",
        "\n",
        "- Question 4:\n",
        "Sophia has these two lists of flowers: [\"rose\", \"tulip\", \"daisy\"] and [\"sunflower\", \"lily\"]. Can you help her zip them together and write down all the flowers in order?\n",
        "\n",
        "- Question 5:\n",
        "Alex has these two tuples of vegetables: (\"carrot\", \"potato\", \"tomato\") and (\"cucumber\", \"lettuce\"). Can you help him zip them together and make a list of all the vegetables he has?\n",
        "\n",
        "- Question 6:\n",
        "Isabella has these two sets of letters: {\"a\", \"b\", \"c\"} and {\"d\", \"e\"}. Can you help her zip them together and create a tuple of all the letters in order?\n",
        "\n",
        "- Question 7:\n",
        "Lucas has these two lists of sports: [\"soccer\", \"basketball\", \"tennis\"] and [\"swimming\", \"golf\"]. Can you help him zip them together and write down all the sports in order?\n",
        "\n",
        "- Question 8:\n",
        "Olivia has these two tuples of desserts: (\"cake\", \"pie\", \"ice cream\") and (\"cookies\", \"pudding\"). Can you help her zip them together and make a list of all the desserts she has?\n",
        "\n",
        "- Question 9:\n",
        "Ethan has these two sets of colors: {\"red\", \"blue\", \"yellow\"} and {\"green\", \"orange\"}. Can you help him zip them together and create a tuple of all the colors in order?\n",
        "\n",
        "- Question 10:\n",
        "Ava has these two lists of birds: [\"parrot\", \"owl\", \"eagle\"] and [\"penguin\", \"hawk\"]. Can you help her zip them together and write down all the birds in order?"
      ],
      "metadata": {
        "id": "sk4033NmdL1t"
      }
    },
    {
      "cell_type": "markdown",
      "source": [
        "##`map Function:`\n",
        "The map function applies a specified function to each item in an iterable (like a list) and returns an iterator that yields the results."
      ],
      "metadata": {
        "id": "Ny-4mZqwdgEN"
      }
    },
    {
      "cell_type": "code",
      "source": [
        "numbers=list(map(int,input(\"enter the numbers : \").split(\" \")))\n",
        "print(numbers)\n"
      ],
      "metadata": {
        "colab": {
          "base_uri": "https://localhost:8080/"
        },
        "id": "mpFngTGldfej",
        "outputId": "484c4f86-7215-41aa-b834-a73abbec9a71"
      },
      "execution_count": 4,
      "outputs": [
        {
          "output_type": "stream",
          "name": "stdout",
          "text": [
            "enter the numbers : 1 2 23 45 100\n",
            "[1, 2, 23, 45, 100]\n"
          ]
        }
      ]
    },
    {
      "cell_type": "markdown",
      "source": [
        "Map Function basics\n",
        "\n",
        "1.\tCreating a List of Integers:\n",
        "Take multiple space-separated integers as input and create a list from them.\n",
        "2.\tCreating a Set of Floats:\n",
        "Take multiple space-separated float numbers as input and create a set from them.\n",
        "3.\tCreating a Tuple of Strings:\n",
        "Take multiple space-separated strings as input and create a tuple from them.\n"
      ],
      "metadata": {
        "id": "EDdHR405eNsk"
      }
    },
    {
      "cell_type": "code",
      "source": [
        "import math\n",
        "numbers=list(map(int,input(\"enter the numbers : \").split(\" \")))\n",
        "square_root=list(map(math.sqrt,numbers))\n",
        "print(square)"
      ],
      "metadata": {
        "colab": {
          "base_uri": "https://localhost:8080/"
        },
        "id": "pl97x_dtetvv",
        "outputId": "ccf4878c-9f09-48ac-a5e9-46bbf0430f89"
      },
      "execution_count": 5,
      "outputs": [
        {
          "output_type": "stream",
          "name": "stdout",
          "text": [
            "enter the numbers : 2 3 5 6 8 9\n",
            "[1.4142135623730951, 1.7320508075688772, 2.23606797749979, 2.449489742783178, 2.8284271247461903, 3.0]\n"
          ]
        }
      ]
    },
    {
      "cell_type": "markdown",
      "source": [
        "Question 1: Tommy has a list of numbers: [4, 9, 16]. Can you help him find the square root of each number in the list?\n",
        "\n",
        "Question 2: Sarah has a tuple of numbers: (5, 3, 7). Can you calculate the factorial of each number in the tuple?\n",
        "\n",
        "Question 3: Timmy has a set of numbers: {2, 4, 6}. Can you find the square root of each number in the set?\n",
        "\n",
        "Question 4: Emily has a list of numbers: [10, 20, 30]. Can you calculate the factorial of each number in the list?\n",
        "\n",
        "Question 5: Johnny has a tuple of numbers: (1.5, 2.5, 3.5). Can you help him find the square root of each number in the tuple?"
      ],
      "metadata": {
        "id": "Wwzf7w7nf34h"
      }
    }
  ]
}